{
 "cells": [
  {
   "cell_type": "markdown",
   "metadata": {},
   "source": [
    "# Machine Learning Engineer Nanodegree\n",
    "## Supervised Learning\n",
    "## Project 2: Building a Student Intervention System"
   ]
  },
  {
   "cell_type": "markdown",
   "metadata": {},
   "source": [
    "Welcome to the second project of the Machine Learning Engineer Nanodegree! In this notebook, some template code has already been provided for you, and it will be your job to implement the additional functionality necessary to successfully complete this project. Sections that begin with **'Implementation'** in the header indicate that the following block of code will require additional functionality which you must provide. Instructions will be provided for each section and the specifics of the implementation are marked in the code block with a `'TODO'` statement. Please be sure to read the instructions carefully!\n",
    "\n",
    "In addition to implementing code, there will be questions that you must answer which relate to the project and your implementation. Each section where you will answer a question is preceded by a **'Question X'** header. Carefully read each question and provide thorough answers in the following text boxes that begin with **'Answer:'**. Your project submission will be evaluated based on your answers to each of the questions and the implementation you provide.  \n",
    "\n",
    ">**Note:** Code and Markdown cells can be executed using the **Shift + Enter** keyboard shortcut. In addition, Markdown cells can be edited by typically double-clicking the cell to enter edit mode."
   ]
  },
  {
   "cell_type": "markdown",
   "metadata": {},
   "source": [
    "[Markdown Cheatsheet](https://github.com/adam-p/markdown-here/wiki/Markdown-Cheatsheet)"
   ]
  },
  {
   "cell_type": "markdown",
   "metadata": {},
   "source": [
    "<img src=\"http://www.nextbit.it/img/diagrammi/classification01.jpg\">"
   ]
  },
  {
   "cell_type": "markdown",
   "metadata": {},
   "source": [
    "### Question 1 - Classification vs. Regression\n",
    "*Your goal for this project is to identify students who might need early intervention before they fail to graduate. Which type of supervised learning problem is this, classification or regression? Why?*"
   ]
  },
  {
   "cell_type": "markdown",
   "metadata": {},
   "source": [
    "**Answer: **\n",
    "With classfication algorithms we try to predict discrete labels, while with regression we want to predict continous labels for our data.\n",
    "In this example for a given student we want to decide whether an intervention is necessary (1) or not (0). This is a binary/discrete output, hence a binary classification problem."
   ]
  },
  {
   "cell_type": "markdown",
   "metadata": {},
   "source": [
    "## Exploring the Data\n",
    "Run the code cell below to load necessary Python libraries and load the student data. Note that the last column from this dataset, `'passed'`, will be our target label (whether the student graduated or didn't graduate). All other columns are features about each student."
   ]
  },
  {
   "cell_type": "code",
   "execution_count": 148,
   "metadata": {
    "collapsed": false
   },
   "outputs": [
    {
     "name": "stdout",
     "output_type": "stream",
     "text": [
      "Student data read successfully!\n"
     ]
    }
   ],
   "source": [
    "# Import libraries\n",
    "import numpy as np\n",
    "import pandas as pd\n",
    "import matplotlib.pyplot as plt\n",
    "%matplotlib inline\n",
    "from time import time\n",
    "from sklearn.metrics import f1_score\n",
    "from sklearn.metrics import confusion_matrix\n",
    "\n",
    "# Read student data\n",
    "student_data = pd.read_csv(\"student-data.csv\")\n",
    "print \"Student data read successfully!\""
   ]
  },
  {
   "cell_type": "markdown",
   "metadata": {},
   "source": [
    "### Implementation: Data Exploration\n",
    "Let's begin by investigating the dataset to determine how many students we have information on, and learn about the graduation rate among these students. In the code cell below, you will need to compute the following:\n",
    "- The total number of students, `n_students`.\n",
    "- The total number of features for each student, `n_features`.\n",
    "- The number of those students who passed, `n_passed`.\n",
    "- The number of those students who failed, `n_failed`.\n",
    "- The graduation rate of the class, `grad_rate`, in percent (%).\n"
   ]
  },
  {
   "cell_type": "code",
   "execution_count": 149,
   "metadata": {
    "collapsed": false
   },
   "outputs": [
    {
     "data": {
      "text/html": [
       "<div>\n",
       "<table border=\"1\" class=\"dataframe\">\n",
       "  <thead>\n",
       "    <tr style=\"text-align: right;\">\n",
       "      <th></th>\n",
       "      <th>school</th>\n",
       "      <th>sex</th>\n",
       "      <th>age</th>\n",
       "      <th>address</th>\n",
       "      <th>famsize</th>\n",
       "      <th>Pstatus</th>\n",
       "      <th>Medu</th>\n",
       "      <th>Fedu</th>\n",
       "      <th>Mjob</th>\n",
       "      <th>Fjob</th>\n",
       "      <th>...</th>\n",
       "      <th>internet</th>\n",
       "      <th>romantic</th>\n",
       "      <th>famrel</th>\n",
       "      <th>freetime</th>\n",
       "      <th>goout</th>\n",
       "      <th>Dalc</th>\n",
       "      <th>Walc</th>\n",
       "      <th>health</th>\n",
       "      <th>absences</th>\n",
       "      <th>passed</th>\n",
       "    </tr>\n",
       "  </thead>\n",
       "  <tbody>\n",
       "    <tr>\n",
       "      <th>0</th>\n",
       "      <td>GP</td>\n",
       "      <td>F</td>\n",
       "      <td>18</td>\n",
       "      <td>U</td>\n",
       "      <td>GT3</td>\n",
       "      <td>A</td>\n",
       "      <td>4</td>\n",
       "      <td>4</td>\n",
       "      <td>at_home</td>\n",
       "      <td>teacher</td>\n",
       "      <td>...</td>\n",
       "      <td>no</td>\n",
       "      <td>no</td>\n",
       "      <td>4</td>\n",
       "      <td>3</td>\n",
       "      <td>4</td>\n",
       "      <td>1</td>\n",
       "      <td>1</td>\n",
       "      <td>3</td>\n",
       "      <td>6</td>\n",
       "      <td>no</td>\n",
       "    </tr>\n",
       "    <tr>\n",
       "      <th>1</th>\n",
       "      <td>GP</td>\n",
       "      <td>F</td>\n",
       "      <td>17</td>\n",
       "      <td>U</td>\n",
       "      <td>GT3</td>\n",
       "      <td>T</td>\n",
       "      <td>1</td>\n",
       "      <td>1</td>\n",
       "      <td>at_home</td>\n",
       "      <td>other</td>\n",
       "      <td>...</td>\n",
       "      <td>yes</td>\n",
       "      <td>no</td>\n",
       "      <td>5</td>\n",
       "      <td>3</td>\n",
       "      <td>3</td>\n",
       "      <td>1</td>\n",
       "      <td>1</td>\n",
       "      <td>3</td>\n",
       "      <td>4</td>\n",
       "      <td>no</td>\n",
       "    </tr>\n",
       "    <tr>\n",
       "      <th>2</th>\n",
       "      <td>GP</td>\n",
       "      <td>F</td>\n",
       "      <td>15</td>\n",
       "      <td>U</td>\n",
       "      <td>LE3</td>\n",
       "      <td>T</td>\n",
       "      <td>1</td>\n",
       "      <td>1</td>\n",
       "      <td>at_home</td>\n",
       "      <td>other</td>\n",
       "      <td>...</td>\n",
       "      <td>yes</td>\n",
       "      <td>no</td>\n",
       "      <td>4</td>\n",
       "      <td>3</td>\n",
       "      <td>2</td>\n",
       "      <td>2</td>\n",
       "      <td>3</td>\n",
       "      <td>3</td>\n",
       "      <td>10</td>\n",
       "      <td>yes</td>\n",
       "    </tr>\n",
       "    <tr>\n",
       "      <th>3</th>\n",
       "      <td>GP</td>\n",
       "      <td>F</td>\n",
       "      <td>15</td>\n",
       "      <td>U</td>\n",
       "      <td>GT3</td>\n",
       "      <td>T</td>\n",
       "      <td>4</td>\n",
       "      <td>2</td>\n",
       "      <td>health</td>\n",
       "      <td>services</td>\n",
       "      <td>...</td>\n",
       "      <td>yes</td>\n",
       "      <td>yes</td>\n",
       "      <td>3</td>\n",
       "      <td>2</td>\n",
       "      <td>2</td>\n",
       "      <td>1</td>\n",
       "      <td>1</td>\n",
       "      <td>5</td>\n",
       "      <td>2</td>\n",
       "      <td>yes</td>\n",
       "    </tr>\n",
       "    <tr>\n",
       "      <th>4</th>\n",
       "      <td>GP</td>\n",
       "      <td>F</td>\n",
       "      <td>16</td>\n",
       "      <td>U</td>\n",
       "      <td>GT3</td>\n",
       "      <td>T</td>\n",
       "      <td>3</td>\n",
       "      <td>3</td>\n",
       "      <td>other</td>\n",
       "      <td>other</td>\n",
       "      <td>...</td>\n",
       "      <td>no</td>\n",
       "      <td>no</td>\n",
       "      <td>4</td>\n",
       "      <td>3</td>\n",
       "      <td>2</td>\n",
       "      <td>1</td>\n",
       "      <td>2</td>\n",
       "      <td>5</td>\n",
       "      <td>4</td>\n",
       "      <td>yes</td>\n",
       "    </tr>\n",
       "  </tbody>\n",
       "</table>\n",
       "<p>5 rows × 31 columns</p>\n",
       "</div>"
      ],
      "text/plain": [
       "  school sex  age address famsize Pstatus  Medu  Fedu     Mjob      Fjob  \\\n",
       "0     GP   F   18       U     GT3       A     4     4  at_home   teacher   \n",
       "1     GP   F   17       U     GT3       T     1     1  at_home     other   \n",
       "2     GP   F   15       U     LE3       T     1     1  at_home     other   \n",
       "3     GP   F   15       U     GT3       T     4     2   health  services   \n",
       "4     GP   F   16       U     GT3       T     3     3    other     other   \n",
       "\n",
       "   ...   internet romantic  famrel  freetime  goout Dalc Walc health absences  \\\n",
       "0  ...         no       no       4         3      4    1    1      3        6   \n",
       "1  ...        yes       no       5         3      3    1    1      3        4   \n",
       "2  ...        yes       no       4         3      2    2    3      3       10   \n",
       "3  ...        yes      yes       3         2      2    1    1      5        2   \n",
       "4  ...         no       no       4         3      2    1    2      5        4   \n",
       "\n",
       "  passed  \n",
       "0     no  \n",
       "1     no  \n",
       "2    yes  \n",
       "3    yes  \n",
       "4    yes  \n",
       "\n",
       "[5 rows x 31 columns]"
      ]
     },
     "execution_count": 149,
     "metadata": {},
     "output_type": "execute_result"
    }
   ],
   "source": [
    "#Print table\n",
    "student_data.head()"
   ]
  },
  {
   "cell_type": "code",
   "execution_count": 150,
   "metadata": {
    "collapsed": false
   },
   "outputs": [
    {
     "name": "stdout",
     "output_type": "stream",
     "text": [
      "Total number of students: 395\n",
      "Number of features: 30\n",
      "Number of students who passed: 265\n",
      "Number of students who failed: 130\n",
      "Graduation rate of the class: 67.09%\n"
     ]
    }
   ],
   "source": [
    "# TODO: Calculate number of students\n",
    "n_students = student_data.shape[0]\n",
    "\n",
    "# TODO: Calculate number of features\n",
    "n_features = student_data.shape[1]-1\n",
    "\n",
    "# TODO: Calculate passing students\n",
    "n_passed = student_data[student_data['passed']=='yes'].shape[0]\n",
    "\n",
    "# TODO: Calculate failing students\n",
    "n_failed = student_data[student_data['passed']=='no'].shape[0]\n",
    "\n",
    "# TODO: Calculate graduation rate\n",
    "grad_rate = float ( n_passed )/ n_students*100\n",
    "\n",
    "# Print the results\n",
    "print \"Total number of students: {}\".format(n_students)\n",
    "print \"Number of features: {}\".format(n_features)\n",
    "print \"Number of students who passed: {}\".format(n_passed)\n",
    "print \"Number of students who failed: {}\".format(n_failed)\n",
    "print \"Graduation rate of the class: {:.2f}%\".format(grad_rate)"
   ]
  },
  {
   "cell_type": "markdown",
   "metadata": {},
   "source": [
    "## Preparing the Data\n",
    "In this section, we will prepare the data for modeling, training and testing.\n",
    "\n",
    "### Identify feature and target columns\n",
    "It is often the case that the data you obtain contains non-numeric features. This can be a problem, as most machine learning algorithms expect numeric data to perform computations with.\n",
    "\n",
    "Run the code cell below to separate the student data into feature and target columns to see if any features are non-numeric."
   ]
  },
  {
   "cell_type": "code",
   "execution_count": 151,
   "metadata": {
    "collapsed": false
   },
   "outputs": [
    {
     "name": "stdout",
     "output_type": "stream",
     "text": [
      "Feature columns:\n",
      "['school', 'sex', 'age', 'address', 'famsize', 'Pstatus', 'Medu', 'Fedu', 'Mjob', 'Fjob', 'reason', 'guardian', 'traveltime', 'studytime', 'failures', 'schoolsup', 'famsup', 'paid', 'activities', 'nursery', 'higher', 'internet', 'romantic', 'famrel', 'freetime', 'goout', 'Dalc', 'Walc', 'health', 'absences']\n",
      "\n",
      "Target column: passed\n",
      "\n",
      "Feature values:\n"
     ]
    },
    {
     "data": {
      "text/html": [
       "<div>\n",
       "<table border=\"1\" class=\"dataframe\">\n",
       "  <thead>\n",
       "    <tr style=\"text-align: right;\">\n",
       "      <th></th>\n",
       "      <th>school</th>\n",
       "      <th>sex</th>\n",
       "      <th>age</th>\n",
       "      <th>address</th>\n",
       "      <th>famsize</th>\n",
       "      <th>Pstatus</th>\n",
       "      <th>Medu</th>\n",
       "      <th>Fedu</th>\n",
       "      <th>Mjob</th>\n",
       "      <th>Fjob</th>\n",
       "      <th>...</th>\n",
       "      <th>higher</th>\n",
       "      <th>internet</th>\n",
       "      <th>romantic</th>\n",
       "      <th>famrel</th>\n",
       "      <th>freetime</th>\n",
       "      <th>goout</th>\n",
       "      <th>Dalc</th>\n",
       "      <th>Walc</th>\n",
       "      <th>health</th>\n",
       "      <th>absences</th>\n",
       "    </tr>\n",
       "  </thead>\n",
       "  <tbody>\n",
       "    <tr>\n",
       "      <th>0</th>\n",
       "      <td>GP</td>\n",
       "      <td>F</td>\n",
       "      <td>18</td>\n",
       "      <td>U</td>\n",
       "      <td>GT3</td>\n",
       "      <td>A</td>\n",
       "      <td>4</td>\n",
       "      <td>4</td>\n",
       "      <td>at_home</td>\n",
       "      <td>teacher</td>\n",
       "      <td>...</td>\n",
       "      <td>yes</td>\n",
       "      <td>no</td>\n",
       "      <td>no</td>\n",
       "      <td>4</td>\n",
       "      <td>3</td>\n",
       "      <td>4</td>\n",
       "      <td>1</td>\n",
       "      <td>1</td>\n",
       "      <td>3</td>\n",
       "      <td>6</td>\n",
       "    </tr>\n",
       "    <tr>\n",
       "      <th>1</th>\n",
       "      <td>GP</td>\n",
       "      <td>F</td>\n",
       "      <td>17</td>\n",
       "      <td>U</td>\n",
       "      <td>GT3</td>\n",
       "      <td>T</td>\n",
       "      <td>1</td>\n",
       "      <td>1</td>\n",
       "      <td>at_home</td>\n",
       "      <td>other</td>\n",
       "      <td>...</td>\n",
       "      <td>yes</td>\n",
       "      <td>yes</td>\n",
       "      <td>no</td>\n",
       "      <td>5</td>\n",
       "      <td>3</td>\n",
       "      <td>3</td>\n",
       "      <td>1</td>\n",
       "      <td>1</td>\n",
       "      <td>3</td>\n",
       "      <td>4</td>\n",
       "    </tr>\n",
       "    <tr>\n",
       "      <th>2</th>\n",
       "      <td>GP</td>\n",
       "      <td>F</td>\n",
       "      <td>15</td>\n",
       "      <td>U</td>\n",
       "      <td>LE3</td>\n",
       "      <td>T</td>\n",
       "      <td>1</td>\n",
       "      <td>1</td>\n",
       "      <td>at_home</td>\n",
       "      <td>other</td>\n",
       "      <td>...</td>\n",
       "      <td>yes</td>\n",
       "      <td>yes</td>\n",
       "      <td>no</td>\n",
       "      <td>4</td>\n",
       "      <td>3</td>\n",
       "      <td>2</td>\n",
       "      <td>2</td>\n",
       "      <td>3</td>\n",
       "      <td>3</td>\n",
       "      <td>10</td>\n",
       "    </tr>\n",
       "    <tr>\n",
       "      <th>3</th>\n",
       "      <td>GP</td>\n",
       "      <td>F</td>\n",
       "      <td>15</td>\n",
       "      <td>U</td>\n",
       "      <td>GT3</td>\n",
       "      <td>T</td>\n",
       "      <td>4</td>\n",
       "      <td>2</td>\n",
       "      <td>health</td>\n",
       "      <td>services</td>\n",
       "      <td>...</td>\n",
       "      <td>yes</td>\n",
       "      <td>yes</td>\n",
       "      <td>yes</td>\n",
       "      <td>3</td>\n",
       "      <td>2</td>\n",
       "      <td>2</td>\n",
       "      <td>1</td>\n",
       "      <td>1</td>\n",
       "      <td>5</td>\n",
       "      <td>2</td>\n",
       "    </tr>\n",
       "    <tr>\n",
       "      <th>4</th>\n",
       "      <td>GP</td>\n",
       "      <td>F</td>\n",
       "      <td>16</td>\n",
       "      <td>U</td>\n",
       "      <td>GT3</td>\n",
       "      <td>T</td>\n",
       "      <td>3</td>\n",
       "      <td>3</td>\n",
       "      <td>other</td>\n",
       "      <td>other</td>\n",
       "      <td>...</td>\n",
       "      <td>yes</td>\n",
       "      <td>no</td>\n",
       "      <td>no</td>\n",
       "      <td>4</td>\n",
       "      <td>3</td>\n",
       "      <td>2</td>\n",
       "      <td>1</td>\n",
       "      <td>2</td>\n",
       "      <td>5</td>\n",
       "      <td>4</td>\n",
       "    </tr>\n",
       "  </tbody>\n",
       "</table>\n",
       "<p>5 rows × 30 columns</p>\n",
       "</div>"
      ],
      "text/plain": [
       "  school sex  age address famsize Pstatus  Medu  Fedu     Mjob      Fjob  \\\n",
       "0     GP   F   18       U     GT3       A     4     4  at_home   teacher   \n",
       "1     GP   F   17       U     GT3       T     1     1  at_home     other   \n",
       "2     GP   F   15       U     LE3       T     1     1  at_home     other   \n",
       "3     GP   F   15       U     GT3       T     4     2   health  services   \n",
       "4     GP   F   16       U     GT3       T     3     3    other     other   \n",
       "\n",
       "    ...    higher internet  romantic  famrel  freetime goout Dalc Walc health  \\\n",
       "0   ...       yes       no        no       4         3     4    1    1      3   \n",
       "1   ...       yes      yes        no       5         3     3    1    1      3   \n",
       "2   ...       yes      yes        no       4         3     2    2    3      3   \n",
       "3   ...       yes      yes       yes       3         2     2    1    1      5   \n",
       "4   ...       yes       no        no       4         3     2    1    2      5   \n",
       "\n",
       "  absences  \n",
       "0        6  \n",
       "1        4  \n",
       "2       10  \n",
       "3        2  \n",
       "4        4  \n",
       "\n",
       "[5 rows x 30 columns]"
      ]
     },
     "execution_count": 151,
     "metadata": {},
     "output_type": "execute_result"
    }
   ],
   "source": [
    "# Extract feature columns\n",
    "feature_cols = list(student_data.columns[:-1])\n",
    "\n",
    "# Extract target column 'passed'\n",
    "target_col = student_data.columns[-1] \n",
    "\n",
    "# Show the list of columns\n",
    "print \"Feature columns:\\n{}\".format(feature_cols)\n",
    "print \"\\nTarget column: {}\".format(target_col)\n",
    "\n",
    "# Separate the data into feature data and target data (X_all and y_all, respectively)\n",
    "X_all = student_data[feature_cols]\n",
    "y_all = student_data[target_col]\n",
    "\n",
    "# Show the feature information by printing the first five rows\n",
    "print \"\\nFeature values:\"\n",
    "X_all.head()"
   ]
  },
  {
   "cell_type": "markdown",
   "metadata": {},
   "source": [
    "### Preprocess Feature Columns\n",
    "\n",
    "As you can see, there are several non-numeric columns that need to be converted! Many of them are simply `yes`/`no`, e.g. `internet`. These can be reasonably converted into `1`/`0` (binary) values.\n",
    "\n",
    "Other columns, like `Mjob` and `Fjob`, have more than two values, and are known as _categorical variables_. The recommended way to handle such a column is to create as many columns as possible values (e.g. `Fjob_teacher`, `Fjob_other`, `Fjob_services`, etc.), and assign a `1` to one of them and `0` to all others.\n",
    "\n",
    "These generated columns are sometimes called _dummy variables_, and we will use the [`pandas.get_dummies()`](http://pandas.pydata.org/pandas-docs/stable/generated/pandas.get_dummies.html?highlight=get_dummies#pandas.get_dummies) function to perform this transformation. Run the code cell below to perform the preprocessing routine discussed in this section."
   ]
  },
  {
   "cell_type": "code",
   "execution_count": 152,
   "metadata": {
    "collapsed": false
   },
   "outputs": [
    {
     "name": "stdout",
     "output_type": "stream",
     "text": [
      "Processed feature columns (48 total features):\n",
      "['school_GP', 'school_MS', 'sex_F', 'sex_M', 'age', 'address_R', 'address_U', 'famsize_GT3', 'famsize_LE3', 'Pstatus_A', 'Pstatus_T', 'Medu', 'Fedu', 'Mjob_at_home', 'Mjob_health', 'Mjob_other', 'Mjob_services', 'Mjob_teacher', 'Fjob_at_home', 'Fjob_health', 'Fjob_other', 'Fjob_services', 'Fjob_teacher', 'reason_course', 'reason_home', 'reason_other', 'reason_reputation', 'guardian_father', 'guardian_mother', 'guardian_other', 'traveltime', 'studytime', 'failures', 'schoolsup', 'famsup', 'paid', 'activities', 'nursery', 'higher', 'internet', 'romantic', 'famrel', 'freetime', 'goout', 'Dalc', 'Walc', 'health', 'absences']\n"
     ]
    }
   ],
   "source": [
    "def preprocess_features(X):\n",
    "    ''' Preprocesses the student data and converts non-numeric binary variables into\n",
    "        binary (0/1) variables. Converts categorical variables into dummy variables. '''\n",
    "    \n",
    "    # Initialize new output DataFrame\n",
    "    output = pd.DataFrame(index = X.index)\n",
    "\n",
    "    # Investigate each feature column for the data\n",
    "    for col, col_data in X.iteritems():\n",
    "        \n",
    "        # If data type is non-numeric, replace all yes/no values with 1/0\n",
    "        if col_data.dtype == object:\n",
    "            col_data = col_data.replace(['yes', 'no'], [1, 0])\n",
    "\n",
    "        # If data type is categorical, convert to dummy variables\n",
    "        if col_data.dtype == object:\n",
    "            # Example: 'school' => 'school_GP' and 'school_MS'\n",
    "            col_data = pd.get_dummies(col_data, prefix = col)  \n",
    "        \n",
    "        # Collect the revised columns\n",
    "        output = output.join(col_data)\n",
    "    \n",
    "    return output\n",
    "\n",
    "X_all = preprocess_features(X_all)\n",
    "print \"Processed feature columns ({} total features):\\n{}\".format(len(X_all.columns), list(X_all.columns))"
   ]
  },
  {
   "cell_type": "markdown",
   "metadata": {},
   "source": [
    "### Implementation: Training and Testing Data Split\n",
    "So far, we have converted all _categorical_ features into numeric values. For the next step, we split the data (both features and corresponding labels) into training and test sets. In the following code cell below, you will need to implement the following:\n",
    "- Randomly shuffle and split the data (`X_all`, `y_all`) into training and testing subsets.\n",
    "  - Use 300 training points (approximately 75%) and 95 testing points (approximately 25%).\n",
    "  - Set a `random_state` for the function(s) you use, if provided.\n",
    "  - Store the results in `X_train`, `X_test`, `y_train`, and `y_test`."
   ]
  },
  {
   "cell_type": "code",
   "execution_count": 153,
   "metadata": {
    "collapsed": false
   },
   "outputs": [
    {
     "name": "stdout",
     "output_type": "stream",
     "text": [
      "Training set has 300 samples.\n",
      "Testing set has 95 samples.\n"
     ]
    }
   ],
   "source": [
    "# TODO: Import any additional functionality you may need here\n",
    "from sklearn.cross_validation import train_test_split\n",
    "\n",
    "# TODO: Set the number of training points\n",
    "num_train = 300\n",
    "\n",
    "# Set the number of testing points\n",
    "num_test = X_all.shape[0] - num_train\n",
    "\n",
    "# TODO: Shuffle and split the dataset into the number of training and testing points above\n",
    "X_train, X_test, y_train, y_test = train_test_split(X_all, y_all, test_size=num_test, random_state=0)\n",
    "\n",
    "# Show the results of the split\n",
    "print \"Training set has {} samples.\".format(X_train.shape[0])\n",
    "print \"Testing set has {} samples.\".format(X_test.shape[0])"
   ]
  },
  {
   "cell_type": "markdown",
   "metadata": {},
   "source": [
    "## Training and Evaluating Models\n",
    "In this section, you will choose 3 supervised learning models that are appropriate for this problem and available in `scikit-learn`. You will first discuss the reasoning behind choosing these three models by considering what you know about the data and each model's strengths and weaknesses. You will then fit the model to varying sizes of training data (100 data points, 200 data points, and 300 data points) and measure the F<sub>1</sub> score. You will need to produce three tables (one for each model) that shows the training set size, training time, prediction time, F<sub>1</sub> score on the training set, and F<sub>1</sub> score on the testing set."
   ]
  },
  {
   "cell_type": "markdown",
   "metadata": {},
   "source": [
    "### Question 2 - Model Application\n",
    "*List three supervised learning models that are appropriate for this problem. What are the general applications of each model? What are their strengths and weaknesses? Given what you know about the data, why did you choose these models to be applied?*"
   ]
  },
  {
   "cell_type": "markdown",
   "metadata": {},
   "source": [
    "**Answer: **\n",
    "Intuitively, for a learned classifier to be able to generalize well to unseen data it should meet the following three conditions: (1) it should have been trained on 'enough' examples, (2) it should fit the training data (3) it should be 'simple'.\n",
    "\n",
    "The dataset has about 139 unique values. I was recently at a conference about AI and Ralf, the director of machine learning at Amazon, said that they usually try to have at least one example for each unique value. We have 300 samples in our training set so we are in good shape.\n",
    "\n",
    "I chose the following algorithms for my project:\n",
    "\n",
    "** Naive Bayes: **\n",
    "\n",
    "Naive Bayes model is used for the following three applications:\n",
    "* SPAM Detection\n",
    "* Text classification\n",
    "* Hybrid Recommender Systems\n",
    "\n",
    "One advantage of Naive Bayes is that it can be trained very fast compared to more sophisticated models. Since the Naive Bayes Classifier works with distributions (Gaussian, Bernoulli) one is also flexible enough to try different distributions to fit the data well. One downside of Naive Bayes that due to its simplisity it might not work well for very complex problem spaces.\n",
    "\n",
    "I chose Naive Bayes because the algorithm only needs a small sample size to learn the necessary parameters. Since we only have information about 300 students in our training set this is important.\n",
    "\n",
    "** SVM: **\n",
    "\n",
    "Support Vector Machines can be applied in the following three circumstances:\n",
    "* Credit Card Fraud\n",
    "* Handwriting Detection\n",
    "* Image Classification\n",
    "\n",
    "Support Vector Machines maximize the margin between the different classes in a dataset, which allows this algorithm to generalize really well. The algorithm is also extremly flexible due to the different kernel functions available. The performance of Support Vector Machines starts to deteriorate when the feature space is much larger than the sample size.\n",
    "\n",
    "I chose SVM's because we have more samples than unique features. Furthermore, if this algorithm performs well I intend to try different kernels with GridSearch.\n",
    "\n",
    "** Boosting: **\n",
    "\n",
    "Boosting can be used for Face Detection because it saves on computation cost and maintains accuracy compared to other classifiers.\n",
    "\n",
    "One advantage of Boosting is that there are less parameters to tune: weak classifier, depth and learning rate. However, boosting can be sensitive to noisy data and outliers.\n",
    "\n",
    "Since the student dataset is highly dimensional. The combination of the weak classifiers will be able to fit this highly dimensional dataset well. "
   ]
  },
  {
   "cell_type": "markdown",
   "metadata": {},
   "source": [
    "### Setup\n",
    "Run the code cell below to initialize three helper functions which you can use for training and testing the three supervised learning models you've chosen above. The functions are as follows:\n",
    "- `train_classifier` - takes as input a classifier and training data and fits the classifier to the data.\n",
    "- `predict_labels` - takes as input a fit classifier, features, and a target labeling and makes predictions using the F<sub>1</sub> score.\n",
    "- `train_predict` - takes as input a classifier, and the training and testing data, and performs `train_clasifier` and `predict_labels`.\n",
    " - This function will report the F<sub>1</sub> score for both the training and testing data separately."
   ]
  },
  {
   "cell_type": "code",
   "execution_count": 154,
   "metadata": {
    "collapsed": false
   },
   "outputs": [],
   "source": [
    "'''I modified these functions so that I didn't have to manually copy \n",
    "the results in the table provided.'''\n",
    "\n",
    "def train_classifier(clf, X_train, y_train):\n",
    "    ''' Fits a classifier to the training data. '''\n",
    "    \n",
    "    # Start the clock, train the classifier, then stop the clock\n",
    "    start = time()\n",
    "    clf.fit(X_train, y_train)\n",
    "    end = time()\n",
    "    \n",
    "    # Return the results\n",
    "    return {'time': end - start}\n",
    "\n",
    "    \n",
    "def predict_labels(clf, features, target):\n",
    "    ''' Makes predictions using a fit classifier based on F1 score. '''\n",
    "    \n",
    "    # Start the clock, make predictions, then stop the clock\n",
    "    start = time()\n",
    "    y_pred = clf.predict(features)\n",
    "    end = time()\n",
    "    \n",
    "    # Return the results\n",
    "    return {'time': end - start, 'score': f1_score(target.values, y_pred, pos_label='yes')}\n",
    "\n",
    "\n",
    "def train_predict(clf, X_train, y_train, X_test, y_test):\n",
    "    ''' Train and predict using a classifer based on F1 score. '''\n",
    "    \n",
    "    # Train the classifier\n",
    "    train_classifier(clf, X_train, y_train)\n",
    "    \n",
    "    #Store Time and Score Information\n",
    "    train_info = predict_labels(clf, X_train, y_train)\n",
    "    test_info = predict_labels(clf, X_test, y_test)\n",
    "    \n",
    "    \n",
    "    # Return all results necessary for one row in the table\n",
    "    return {'Prediction Time (train)': round(train_info['time'], 4), \n",
    "            'Prediction Time (test)': round(test_info['time'], 4), \n",
    "            'F1 Score (train)': round(train_info['score'], 4), \n",
    "            'F1 Score (test)': round(test_info['score'], 4)}\n",
    "\n",
    "def train_predict_samples(clf):\n",
    "    df = pd.DataFrame(columns=['Prediction Time (train)', \n",
    "                               'Prediction Time (test)', \n",
    "                               'F1 Score (train)', \n",
    "                               'F1 Score (test)'], index=['100', '200', '300'])\n",
    "\n",
    "    for size in [100, 200, 300]:\n",
    "        df.loc[str(size)] = pd.Series(train_predict(clf, \n",
    "                                                X_train[:size], \n",
    "                                                y_train[:size], \n",
    "                                                X_test, \n",
    "                                                y_test))                 \n",
    "    return df\n",
    "\n",
    "def train_predict_all(clf):\n",
    "    df = pd.DataFrame(columns=['Prediction Time (train)', \n",
    "                               'Prediction Time (test)', \n",
    "                               'F1 Score (train)', \n",
    "                               'F1 Score (test)'], index=['All'])\n",
    "\n",
    "    info_all = train_predict(clf, X_train, y_train, X_test, y_test)\n",
    "    \n",
    "    df.loc['All'] = pd.Series(info_all)\n",
    "    return df\n",
    "\n",
    "def print_classifier_name(clf):\n",
    "    print 'Classifier - {}'.format(clf.__class__.__name__)\n",
    "    \n",
    "# I copied this code snippet from the sklearn documentation and adjusted it for the specific use case\n",
    "def plot_confusion_matrix(cm, title='Confusion matrix', cmap=plt.cm.Blues):\n",
    "    plt.imshow(cm, interpolation='nearest', cmap=cmap)\n",
    "    plt.title(title)\n",
    "    plt.colorbar()\n",
    "    tick_marks = np.arange(len(['no', 'yes']))\n",
    "    plt.xticks(tick_marks, ['no', 'yes'], rotation=45)\n",
    "    plt.yticks(tick_marks, ['no', 'yes'])\n",
    "    plt.tight_layout()\n",
    "    plt.ylabel('True label')\n",
    "    plt.xlabel('Predicted label')\n",
    "    \n",
    "def compute_confusion_matrix(clf):\n",
    "    y_pred = clf.predict(X_test)\n",
    "    return confusion_matrix(y_test, y_pred)\n",
    "    "
   ]
  },
  {
   "cell_type": "markdown",
   "metadata": {},
   "source": [
    "### Implementation: Model Performance Metrics\n",
    "With the predefined functions above, you will now import the three supervised learning models of your choice and run the `train_predict` function for each one. Remember that you will need to train and predict on each classifier for three different training set sizes: 100, 200, and 300. Hence, you should expect to have 9 different outputs below — 3 for each model using the varying training set sizes. In the following code cell, you will need to implement the following:\n",
    "- Import the three supervised learning models you've discussed in the previous section.\n",
    "- Initialize the three models and store them in `clf_A`, `clf_B`, and `clf_C`.\n",
    " - Use a `random_state` for each model you use, if provided.\n",
    " - **Note:** Use the default settings for each model — you will tune one specific model in a later section.\n",
    "- Create the different training set sizes to be used to train each model.\n",
    " - *Do not reshuffle and resplit the data! The new training points should be drawn from `X_train` and `y_train`.*\n",
    "- Fit each model with each training set size and make predictions on the test set (9 in total).  \n",
    "**Note:** Three tables are provided after the following code cell which can be used to store your results."
   ]
  },
  {
   "cell_type": "code",
   "execution_count": 155,
   "metadata": {
    "collapsed": false
   },
   "outputs": [],
   "source": [
    "# TODO: Import the three supervised learning models from sklearn\n",
    "# from sklearn import model_A\n",
    "from sklearn.naive_bayes import GaussianNB\n",
    "# from sklearn import model_B\n",
    "from sklearn import svm\n",
    "# from skearln import model_C\n",
    "from sklearn.ensemble import AdaBoostClassifier\n",
    "\n",
    "# TODO: Initialize the three models\n",
    "clf_A = GaussianNB()\n",
    "clf_B = svm.SVC()\n",
    "clf_C = AdaBoostClassifier(n_estimators=200)\n",
    "\n",
    "# TODO: Set up the training set sizes\n",
    "X_train_100 = X_train[:100]\n",
    "y_train_100 = y_train[:100]\n",
    "\n",
    "X_train_200 = X_train[:200]\n",
    "y_train_200 = y_train[:200]\n",
    "\n",
    "X_train_300 = X_train[:300]\n",
    "y_train_300 = y_train[:300]\n",
    "\n",
    "# TODO: Execute the 'train_predict' function for each classifier and each training set size\n",
    "clf_A_info = train_predict_samples(clf_A)\n",
    "clf_B_info = train_predict_samples(clf_B)\n",
    "clf_C_info = train_predict_samples(clf_C)"
   ]
  },
  {
   "cell_type": "markdown",
   "metadata": {},
   "source": [
    "### Tabular Results\n",
    "Edit the cell below to see how a table can be designed in [Markdown](https://github.com/adam-p/markdown-here/wiki/Markdown-Cheatsheet#tables). You can record your results from above in the tables provided."
   ]
  },
  {
   "cell_type": "code",
   "execution_count": 156,
   "metadata": {
    "collapsed": false
   },
   "outputs": [
    {
     "name": "stdout",
     "output_type": "stream",
     "text": [
      "Classifier - GaussianNB\n",
      "[[10 26]\n",
      " [ 8 51]]\n"
     ]
    },
    {
     "data": {
      "text/html": [
       "<div>\n",
       "<table border=\"1\" class=\"dataframe\">\n",
       "  <thead>\n",
       "    <tr style=\"text-align: right;\">\n",
       "      <th></th>\n",
       "      <th>Prediction Time (train)</th>\n",
       "      <th>Prediction Time (test)</th>\n",
       "      <th>F1 Score (train)</th>\n",
       "      <th>F1 Score (test)</th>\n",
       "    </tr>\n",
       "  </thead>\n",
       "  <tbody>\n",
       "    <tr>\n",
       "      <th>100</th>\n",
       "      <td>0.0097</td>\n",
       "      <td>0.0003</td>\n",
       "      <td>0.855</td>\n",
       "      <td>0.7481</td>\n",
       "    </tr>\n",
       "    <tr>\n",
       "      <th>200</th>\n",
       "      <td>0.0004</td>\n",
       "      <td>0.0002</td>\n",
       "      <td>0.8321</td>\n",
       "      <td>0.7132</td>\n",
       "    </tr>\n",
       "    <tr>\n",
       "      <th>300</th>\n",
       "      <td>0.0005</td>\n",
       "      <td>0.0002</td>\n",
       "      <td>0.8088</td>\n",
       "      <td>0.75</td>\n",
       "    </tr>\n",
       "  </tbody>\n",
       "</table>\n",
       "</div>"
      ],
      "text/plain": [
       "    Prediction Time (train) Prediction Time (test) F1 Score (train)  \\\n",
       "100                  0.0097                 0.0003            0.855   \n",
       "200                  0.0004                 0.0002           0.8321   \n",
       "300                  0.0005                 0.0002           0.8088   \n",
       "\n",
       "    F1 Score (test)  \n",
       "100          0.7481  \n",
       "200          0.7132  \n",
       "300            0.75  "
      ]
     },
     "execution_count": 156,
     "metadata": {},
     "output_type": "execute_result"
    },
    {
     "data": {
      "image/png": "[encoded data removed]",
      "text/plain": [
       "<matplotlib.figure.Figure at 0x11eded910>"
      ]
     },
     "metadata": {},
     "output_type": "display_data"
    }
   ],
   "source": [
    "print_classifier_name(clf_A)\n",
    "\n",
    "# Compute the Confusion Matrix\n",
    "cm = compute_confusion_matrix(clf_A)\n",
    "print cm\n",
    "\n",
    "# Plotting the Confusion Matrix\n",
    "np.set_printoptions(precision=2)\n",
    "plot_confusion_matrix(cm)\n",
    "\n",
    "# Displaying the Table\n",
    "clf_A_info.head()"
   ]
  },
  {
   "cell_type": "code",
   "execution_count": 157,
   "metadata": {
    "collapsed": false
   },
   "outputs": [
    {
     "name": "stdout",
     "output_type": "stream",
     "text": [
      "Classifier - SVC\n",
      "[[ 5 31]\n",
      " [ 4 55]]\n"
     ]
    },
    {
     "data": {
      "text/html": [
       "<div>\n",
       "<table border=\"1\" class=\"dataframe\">\n",
       "  <thead>\n",
       "    <tr style=\"text-align: right;\">\n",
       "      <th></th>\n",
       "      <th>Prediction Time (train)</th>\n",
       "      <th>Prediction Time (test)</th>\n",
       "      <th>F1 Score (train)</th>\n",
       "      <th>F1 Score (test)</th>\n",
       "    </tr>\n",
       "  </thead>\n",
       "  <tbody>\n",
       "    <tr>\n",
       "      <th>100</th>\n",
       "      <td>0.0012</td>\n",
       "      <td>0.0009</td>\n",
       "      <td>0.8591</td>\n",
       "      <td>0.7838</td>\n",
       "    </tr>\n",
       "    <tr>\n",
       "      <th>200</th>\n",
       "      <td>0.0023</td>\n",
       "      <td>0.0016</td>\n",
       "      <td>0.8693</td>\n",
       "      <td>0.7755</td>\n",
       "    </tr>\n",
       "    <tr>\n",
       "      <th>300</th>\n",
       "      <td>0.0044</td>\n",
       "      <td>0.0016</td>\n",
       "      <td>0.8692</td>\n",
       "      <td>0.7586</td>\n",
       "    </tr>\n",
       "  </tbody>\n",
       "</table>\n",
       "</div>"
      ],
      "text/plain": [
       "    Prediction Time (train) Prediction Time (test) F1 Score (train)  \\\n",
       "100                  0.0012                 0.0009           0.8591   \n",
       "200                  0.0023                 0.0016           0.8693   \n",
       "300                  0.0044                 0.0016           0.8692   \n",
       "\n",
       "    F1 Score (test)  \n",
       "100          0.7838  \n",
       "200          0.7755  \n",
       "300          0.7586  "
      ]
     },
     "execution_count": 157,
     "metadata": {},
     "output_type": "execute_result"
    },
    {
     "data": {
      "image/png": "[encoded data removed]",
      "text/plain": [
       "<matplotlib.figure.Figure at 0x11ee58ad0>"
      ]
     },
     "metadata": {},
     "output_type": "display_data"
    }
   ],
   "source": [
    "print_classifier_name(clf_B)\n",
    "\n",
    "# Computing the Confusion Matrix\n",
    "cm = compute_confusion_matrix(clf_B)\n",
    "print cm\n",
    "\n",
    "# Plotting the Confusion Matrix\n",
    "np.set_printoptions(precision=2)\n",
    "plot_confusion_matrix(cm)\n",
    "\n",
    "# Displaying the Table\n",
    "clf_B_info.head()"
   ]
  },
  {
   "cell_type": "code",
   "execution_count": 158,
   "metadata": {
    "collapsed": false
   },
   "outputs": [
    {
     "name": "stdout",
     "output_type": "stream",
     "text": [
      "Classifier - AdaBoostClassifier\n",
      "[[16 20]\n",
      " [10 49]]\n"
     ]
    },
    {
     "data": {
      "text/html": [
       "<div>\n",
       "<table border=\"1\" class=\"dataframe\">\n",
       "  <thead>\n",
       "    <tr style=\"text-align: right;\">\n",
       "      <th></th>\n",
       "      <th>Prediction Time (train)</th>\n",
       "      <th>Prediction Time (test)</th>\n",
       "      <th>F1 Score (train)</th>\n",
       "      <th>F1 Score (test)</th>\n",
       "    </tr>\n",
       "  </thead>\n",
       "  <tbody>\n",
       "    <tr>\n",
       "      <th>100</th>\n",
       "      <td>0.014</td>\n",
       "      <td>0.0176</td>\n",
       "      <td>1</td>\n",
       "      <td>0.7317</td>\n",
       "    </tr>\n",
       "    <tr>\n",
       "      <th>200</th>\n",
       "      <td>0.0161</td>\n",
       "      <td>0.0138</td>\n",
       "      <td>0.9091</td>\n",
       "      <td>0.7669</td>\n",
       "    </tr>\n",
       "    <tr>\n",
       "      <th>300</th>\n",
       "      <td>0.0181</td>\n",
       "      <td>0.0134</td>\n",
       "      <td>0.8811</td>\n",
       "      <td>0.7656</td>\n",
       "    </tr>\n",
       "  </tbody>\n",
       "</table>\n",
       "</div>"
      ],
      "text/plain": [
       "    Prediction Time (train) Prediction Time (test) F1 Score (train)  \\\n",
       "100                   0.014                 0.0176                1   \n",
       "200                  0.0161                 0.0138           0.9091   \n",
       "300                  0.0181                 0.0134           0.8811   \n",
       "\n",
       "    F1 Score (test)  \n",
       "100          0.7317  \n",
       "200          0.7669  \n",
       "300          0.7656  "
      ]
     },
     "execution_count": 158,
     "metadata": {},
     "output_type": "execute_result"
    },
    {
     "data": {
      "image/png": "[encoded data removed]",
      "text/plain": [
       "<matplotlib.figure.Figure at 0x11dd6dbd0>"
      ]
     },
     "metadata": {},
     "output_type": "display_data"
    }
   ],
   "source": [
    "print_classifier_name(clf_C)\n",
    "\n",
    "# Computing the Confusion Matrix\n",
    "cm = compute_confusion_matrix(clf_C)\n",
    "print cm\n",
    "\n",
    "# Plotting the Confusion Matrix\n",
    "np.set_printoptions(precision=2)\n",
    "plot_confusion_matrix(cm)\n",
    "\n",
    "# Displaying the table\n",
    "clf_C_info.head()"
   ]
  },
  {
   "cell_type": "markdown",
   "metadata": {},
   "source": [
    "## Choosing the Best Model\n",
    "In this final section, you will choose from the three supervised learning models the *best* model to use on the student data. You will then perform a grid search optimization for the model over the entire training set (`X_train` and `y_train`) by tuning at least one parameter to improve upon the untuned model's F<sub>1</sub> score. "
   ]
  },
  {
   "cell_type": "markdown",
   "metadata": {},
   "source": [
    "### Question 3 - Chosing the Best Model\n",
    "*Based on the experiments you performed earlier, in one to two paragraphs, explain to the board of supervisors what single model you chose as the best model. Which model is generally the most appropriate based on the available data, limited resources, cost, and performance?*"
   ]
  },
  {
   "cell_type": "markdown",
   "metadata": {},
   "source": [
    "**Answer: **\n",
    "In my opinion not only the peformance and training/prediction time matters, but also which types of mistakes are made. For some students it may be catastrophic, when they are predicted to graduate, but are actually at risk - this would be a false positive.\n",
    "To evaluate the models based on this metric I implemented a confusion matrix - the false positives are in the top right corner. The model, that performs best, while also minimizing the number of false positives is the model based on the AdaBoostClassifier. Furthermore, this model also performs the best on the majority of students (i.e. 300 samples).\n",
    "The disadvantage of this model is the longer prediction time."
   ]
  },
  {
   "cell_type": "markdown",
   "metadata": {},
   "source": [
    "### Question 4 - Model in Layman's Terms\n",
    "*In one to two paragraphs, explain to the board of directors in layman's terms how the final model chosen is supposed to work. For example if you've chosen to use a decision tree or a support vector machine, how does the model go about making a prediction?*"
   ]
  },
  {
   "cell_type": "markdown",
   "metadata": {},
   "source": [
    "**Answer: **\n",
    "\n",
    "In the problem at hand we are trying to decide whether students will graduate using an algorithm. Let's think about this if we were using teachers A, B, C, D and E instead for a moment. \n",
    "Each teacher records their best guess about each student, using all the information they have on their students.At the end of the year they know whether the actually students graduated. It turns out that maybe teacher A's guesses proved more accurate than the guesses of teacher B. It also turned out that when theachers C and D agreed they were usually right. The guesses of teacher E turned out to be mostly inaccurate though. In the next year to accomodate what they learned accurate for students who take science classes, while teacher E's guesses are very accurate for students who take a lot of college prep classes. In the next year the weights of the teachers guesses are changed to accomodate for their repspective area of expertise. Ada Boosting works similarly.\n",
    "\n",
    "The AdaBoosting algorithm starts by plotting all the data and finding a straight line to divide our dataset into students who will and will not graduate. After the first iteration the points that were in the wrong group (i.e. the algorithm got wrong) are assigned a higher importance (weight). In the next iteration the algorithm tries to find a better line to divide the dataset focusing on the more important points. The line dividing the dataset is called a weak classifier. This is repeated a lot of times and each time the importance of the point is updated. Essentially in the first stage we get houndreds or even thousands of opinions (weak classifiers) about in which group a given students should belong - in our analogy each weak classifier would represent a teachers opinion. These are by no means perfect, in fact they are often only a little bit better than random guessing.\n",
    "\n",
    "In the next stage we have to figure out which combination of these opinions ist most effective at predicting the students group and combine all of them into one model. For each weak classifier we can calculate the error by multiplying the importance weight of each point that was misclassified times one. We combine these opinions by giving the best opinions (i.e. with lowest error) the most influence in the final model - similarly to how the weights of the teachers guesses changed at the end of the year. This is done using a weighted sum.\n",
    "\n",
    "The final model is a hyperplane that divides the highly dimensional space of all the features of each individual students into two sides. This plane is not linear - in fact it has a very complex shape with sharp edges. When a new student comes along and the students datapoint is 'graphed' in this high dimensional space it falls on either side - this is the output of the model. Below you can seen an image of how a model in a simple two-dimensional case divided the dataset into two groups:\n",
    "<img src=\"http://scikit-learn.org/stable/_images/plot_adaboost_twoclass_001.png\">"
   ]
  },
  {
   "cell_type": "markdown",
   "metadata": {},
   "source": [
    "### Implementation: Model Tuning\n",
    "Fine tune the chosen model. Use grid search (`GridSearchCV`) with at least one important parameter tuned with at least 3 different values. You will need to use the entire training set for this. In the code cell below, you will need to implement the following:\n",
    "- Import [`sklearn.grid_search.gridSearchCV`](http://scikit-learn.org/stable/modules/generated/sklearn.grid_search.GridSearchCV.html) and [`sklearn.metrics.make_scorer`](http://scikit-learn.org/stable/modules/generated/sklearn.metrics.make_scorer.html).\n",
    "- Create a dictionary of parameters you wish to tune for the chosen model.\n",
    " - Example: `parameters = {'parameter' : [list of values]}`.\n",
    "- Initialize the classifier you've chosen and store it in `clf`.\n",
    "- Create the F<sub>1</sub> scoring function using `make_scorer` and store it in `f1_scorer`.\n",
    " - Set the `pos_label` parameter to the correct value!\n",
    "- Perform grid search on the classifier `clf` using `f1_scorer` as the scoring method, and store it in `grid_obj`.\n",
    "- Fit the grid search object to the training data (`X_train`, `y_train`), and store it in `grid_obj`."
   ]
  },
  {
   "cell_type": "code",
   "execution_count": 160,
   "metadata": {
    "collapsed": false
   },
   "outputs": [
    {
     "name": "stdout",
     "output_type": "stream",
     "text": [
      "Fitting 5 folds for each of 750 candidates, totalling 3750 fits\n"
     ]
    },
    {
     "name": "stderr",
     "output_type": "stream",
     "text": [
      "[Parallel(n_jobs=8)]: Done 330 tasks      | elapsed:   10.0s\n",
      "[Parallel(n_jobs=8)]: Done 705 tasks      | elapsed:   21.0s\n",
      "[Parallel(n_jobs=8)]: Done 1205 tasks      | elapsed:   37.8s\n",
      "[Parallel(n_jobs=8)]: Done 1905 tasks      | elapsed:  1.0min\n",
      "[Parallel(n_jobs=8)]: Done 2805 tasks      | elapsed:  1.5min\n",
      "[Parallel(n_jobs=8)]: Done 3750 out of 3750 | elapsed:  2.1min finished\n"
     ]
    },
    {
     "name": "stdout",
     "output_type": "stream",
     "text": [
      "Classifier - AdaBoostClassifier\n",
      "[[11 25]\n",
      " [ 3 56]]\n"
     ]
    },
    {
     "data": {
      "text/html": [
       "<div>\n",
       "<table border=\"1\" class=\"dataframe\">\n",
       "  <thead>\n",
       "    <tr style=\"text-align: right;\">\n",
       "      <th></th>\n",
       "      <th>Prediction Time (train)</th>\n",
       "      <th>Prediction Time (test)</th>\n",
       "      <th>F1 Score (train)</th>\n",
       "      <th>F1 Score (test)</th>\n",
       "    </tr>\n",
       "  </thead>\n",
       "  <tbody>\n",
       "    <tr>\n",
       "      <th>All</th>\n",
       "      <td>0.0014</td>\n",
       "      <td>0.0011</td>\n",
       "      <td>0.8359</td>\n",
       "      <td>0.8</td>\n",
       "    </tr>\n",
       "  </tbody>\n",
       "</table>\n",
       "</div>"
      ],
      "text/plain": [
       "    Prediction Time (train) Prediction Time (test) F1 Score (train)  \\\n",
       "All                  0.0014                 0.0011           0.8359   \n",
       "\n",
       "    F1 Score (test)  \n",
       "All             0.8  "
      ]
     },
     "execution_count": 160,
     "metadata": {},
     "output_type": "execute_result"
    },
    {
     "data": {
      "image/png": "[encoded data removed]",
      "text/plain": [
       "<matplotlib.figure.Figure at 0x11cfc91d0>"
      ]
     },
     "metadata": {},
     "output_type": "display_data"
    }
   ],
   "source": [
    "# TODO: Import 'gridSearchCV' and 'make_scorer'\n",
    "from sklearn.grid_search import GridSearchCV, RandomizedSearchCV\n",
    "from sklearn.metrics import make_scorer\n",
    "\n",
    "# Implemented stratified K Fold Cross Validation\n",
    "from sklearn import cross_validation\n",
    "\n",
    "skf = cross_validation.StratifiedShuffleSplit(y_train, n_iter=5, random_state=0)\n",
    "\n",
    "# TODO: Create the parameters list you wish to tune\n",
    "parameters = {'n_estimators': list(np.arange(1, 150, 10)), \n",
    "              'learning_rate': list(np.arange(0.5,1,0.02)), \n",
    "              'algorithm': ['SAMME', 'SAMME.R'], \n",
    "              'random_state': [0]}\n",
    "\n",
    "# TODO: Initialize the classifier\n",
    "clf = AdaBoostClassifier()\n",
    "\n",
    "# TODO: Make an f1 scoring function using 'make_scorer' \n",
    "# Greater is Better for F1 --> Don't change default\n",
    "f1_scorer = make_scorer(f1_score, pos_label='yes')\n",
    "\n",
    "# TODO: Perform grid search on the classifier using the f1_scorer as the scoring method\n",
    "grid_obj = GridSearchCV(clf, \n",
    "                        param_grid=parameters, \n",
    "                        scoring=f1_scorer, \n",
    "                        n_jobs=8, \n",
    "                        verbose=1, \n",
    "                        cv=skf)\n",
    "\n",
    "# TODO: Fit the grid search object to the training data and find the optimal parameters\n",
    "grid_obj = grid_obj.fit(X_train, y_train)\n",
    "\n",
    "# Get the estimator\n",
    "clf = grid_obj.best_estimator_\n",
    "\n",
    "# Stats for the GridSearch Model\n",
    "print_classifier_name(clf)\n",
    "cm = compute_confusion_matrix(clf)\n",
    "print cm\n",
    "np.set_printoptions(precision=2)\n",
    "plot_confusion_matrix(cm)\n",
    "\n",
    "clf_info = train_predict_all(clf)\n",
    "clf_info.head()"
   ]
  },
  {
   "cell_type": "code",
   "execution_count": 161,
   "metadata": {
    "collapsed": false
   },
   "outputs": [
    {
     "name": "stdout",
     "output_type": "stream",
     "text": [
      "Fitting 10 folds for each of 500 candidates, totalling 5000 fits\n"
     ]
    },
    {
     "name": "stderr",
     "output_type": "stream",
     "text": [
      "[Parallel(n_jobs=16)]: Done  18 tasks      | elapsed:    1.9s\n",
      "[Parallel(n_jobs=16)]: Done 168 tasks      | elapsed:    8.6s\n",
      "[Parallel(n_jobs=16)]: Done 418 tasks      | elapsed:   19.3s\n",
      "[Parallel(n_jobs=16)]: Done 768 tasks      | elapsed:   35.1s\n",
      "[Parallel(n_jobs=16)]: Done 1218 tasks      | elapsed:   53.4s\n",
      "[Parallel(n_jobs=16)]: Done 1768 tasks      | elapsed:  1.3min\n",
      "[Parallel(n_jobs=16)]: Done 2418 tasks      | elapsed:  1.9min\n",
      "[Parallel(n_jobs=16)]: Done 3168 tasks      | elapsed:  2.4min\n",
      "[Parallel(n_jobs=16)]: Done 4018 tasks      | elapsed:  3.0min\n",
      "[Parallel(n_jobs=16)]: Done 4968 tasks      | elapsed:  3.7min\n",
      "[Parallel(n_jobs=16)]: Done 5000 out of 5000 | elapsed:  3.7min finished\n"
     ]
    },
    {
     "name": "stdout",
     "output_type": "stream",
     "text": [
      "Classifier - AdaBoostClassifier\n",
      "[[10 26]\n",
      " [ 5 54]]\n"
     ]
    },
    {
     "data": {
      "text/html": [
       "<div>\n",
       "<table border=\"1\" class=\"dataframe\">\n",
       "  <thead>\n",
       "    <tr style=\"text-align: right;\">\n",
       "      <th></th>\n",
       "      <th>Prediction Time (train)</th>\n",
       "      <th>Prediction Time (test)</th>\n",
       "      <th>F1 Score (train)</th>\n",
       "      <th>F1 Score (test)</th>\n",
       "    </tr>\n",
       "  </thead>\n",
       "  <tbody>\n",
       "    <tr>\n",
       "      <th>All</th>\n",
       "      <td>0.0158</td>\n",
       "      <td>0.01</td>\n",
       "      <td>0.8478</td>\n",
       "      <td>0.777</td>\n",
       "    </tr>\n",
       "  </tbody>\n",
       "</table>\n",
       "</div>"
      ],
      "text/plain": [
       "    Prediction Time (train) Prediction Time (test) F1 Score (train)  \\\n",
       "All                  0.0158                   0.01           0.8478   \n",
       "\n",
       "    F1 Score (test)  \n",
       "All           0.777  "
      ]
     },
     "execution_count": 161,
     "metadata": {},
     "output_type": "execute_result"
    },
    {
     "data": {
      "image/png": "[encoded data removed]",
      "text/plain": [
       "<matplotlib.figure.Figure at 0x120f47610>"
      ]
     },
     "metadata": {},
     "output_type": "display_data"
    }
   ],
   "source": [
    "'''I wanted to search over a larger parameter space.\n",
    "But I also didn't want to deploy this to a high powered machine.\n",
    "So I decided to implement RandomSearchCV'''\n",
    "\n",
    "clf = AdaBoostClassifier()\n",
    "\n",
    "# Implemented Cross Validation\n",
    "skf_random = cross_validation.StratifiedShuffleSplit(y_train, n_iter=10, random_state=0)\n",
    "\n",
    "parameters_random = {'n_estimators': list(np.arange(1, 200, 5)), \n",
    "              'learning_rate': list(np.arange(0.1,1,0.02)), \n",
    "              'algorithm': ['SAMME', 'SAMME.R'], \n",
    "              'random_state': [0]}\n",
    "\n",
    "# Optional: Using a higher number of parameters with RandomSearchCV\n",
    "n_iter_search = 500\n",
    "\n",
    "random_search = RandomizedSearchCV(clf, \n",
    "                                   param_distributions=parameters_random,\n",
    "                                   n_iter=n_iter_search, \n",
    "                                   scoring=f1_scorer, \n",
    "                                   cv=skf_random, \n",
    "                                   n_jobs=16,\n",
    "                                   verbose=1)\n",
    "\n",
    "# Optional: RandomSearch\n",
    "random_search = random_search.fit(X_train, y_train)\n",
    "\n",
    "# Get the estimator\n",
    "clf_random = random_search.best_estimator_\n",
    "\n",
    "# Stats for the RandomSearch Model\n",
    "print_classifier_name(clf_random)\n",
    "cm_random = compute_confusion_matrix(clf_random)\n",
    "print cm_random\n",
    "np.set_printoptions(precision=2)\n",
    "plot_confusion_matrix(cm_random)\n",
    "clf_random_info = train_predict_all(clf_random)\n",
    "clf_random_info.head()"
   ]
  },
  {
   "cell_type": "code",
   "execution_count": 146,
   "metadata": {
    "collapsed": false
   },
   "outputs": [
    {
     "name": "stdout",
     "output_type": "stream",
     "text": [
      "Important features to the Model ranked by importance:\n",
      "failures\n",
      "absences\n",
      "goout\n",
      "freetime\n",
      "Mjob_health\n",
      "Dalc\n",
      "Fedu\n",
      "Mjob_services\n",
      "studytime\n",
      "age\n"
     ]
    },
    {
     "name": "stderr",
     "output_type": "stream",
     "text": [
      "/anaconda/lib/python2.7/site-packages/ipykernel/__main__.py:25: DeprecationWarning: using a non-integer number instead of an integer will result in an error in the future\n"
     ]
    },
    {
     "data": {
      "text/html": [
       "<div>\n",
       "<table border=\"1\" class=\"dataframe\">\n",
       "  <thead>\n",
       "    <tr style=\"text-align: right;\">\n",
       "      <th></th>\n",
       "      <th>Feature ID</th>\n",
       "      <th>Feature Importance</th>\n",
       "    </tr>\n",
       "  </thead>\n",
       "  <tbody>\n",
       "    <tr>\n",
       "      <th>33</th>\n",
       "      <td>33.0</td>\n",
       "      <td>0.234668</td>\n",
       "    </tr>\n",
       "    <tr>\n",
       "      <th>48</th>\n",
       "      <td>48.0</td>\n",
       "      <td>0.219856</td>\n",
       "    </tr>\n",
       "    <tr>\n",
       "      <th>44</th>\n",
       "      <td>44.0</td>\n",
       "      <td>0.142470</td>\n",
       "    </tr>\n",
       "    <tr>\n",
       "      <th>43</th>\n",
       "      <td>43.0</td>\n",
       "      <td>0.117175</td>\n",
       "    </tr>\n",
       "    <tr>\n",
       "      <th>15</th>\n",
       "      <td>15.0</td>\n",
       "      <td>0.070287</td>\n",
       "    </tr>\n",
       "    <tr>\n",
       "      <th>45</th>\n",
       "      <td>45.0</td>\n",
       "      <td>0.044846</td>\n",
       "    </tr>\n",
       "    <tr>\n",
       "      <th>13</th>\n",
       "      <td>13.0</td>\n",
       "      <td>0.034177</td>\n",
       "    </tr>\n",
       "    <tr>\n",
       "      <th>17</th>\n",
       "      <td>17.0</td>\n",
       "      <td>0.033093</td>\n",
       "    </tr>\n",
       "    <tr>\n",
       "      <th>32</th>\n",
       "      <td>32.0</td>\n",
       "      <td>0.023160</td>\n",
       "    </tr>\n",
       "    <tr>\n",
       "      <th>5</th>\n",
       "      <td>5.0</td>\n",
       "      <td>0.021119</td>\n",
       "    </tr>\n",
       "  </tbody>\n",
       "</table>\n",
       "</div>"
      ],
      "text/plain": [
       "    Feature ID  Feature Importance\n",
       "33        33.0            0.234668\n",
       "48        48.0            0.219856\n",
       "44        44.0            0.142470\n",
       "43        43.0            0.117175\n",
       "15        15.0            0.070287\n",
       "45        45.0            0.044846\n",
       "13        13.0            0.034177\n",
       "17        17.0            0.033093\n",
       "32        32.0            0.023160\n",
       "5          5.0            0.021119"
      ]
     },
     "execution_count": 146,
     "metadata": {},
     "output_type": "execute_result"
    },
    {
     "data": {
      "image/png": "[encoded data removed]",
      "text/plain": [
       "<matplotlib.figure.Figure at 0x11e839250>"
      ]
     },
     "metadata": {},
     "output_type": "display_data"
    }
   ],
   "source": [
    "#Exploring the Feature Importance\n",
    "import seaborn\n",
    "\n",
    "# Creating DataFrame for visualiztion\n",
    "df = pd.DataFrame(columns=['Feature ID', \n",
    "                           'Feature Importance'])\n",
    "\n",
    "# Filling DataFrame\n",
    "index = int(1)\n",
    "for feature in clf_random.feature_importances_:\n",
    "    df.loc[str(index)] = pd.Series({'Feature ID': index, \n",
    "                                    'Feature Importance':feature})\n",
    "    index = index + 1\n",
    "    \n",
    "df\n",
    "\n",
    "#Plotting and printing important features\n",
    "seaborn.set_context('poster')\n",
    "seaborn.barplot(x='Feature ID', y='Feature Importance', data=df)\n",
    "df = df.sort_values(['Feature Importance'], ascending=[0])[:10]\n",
    "\n",
    "print 'Important features to the Model ranked by importance:'\n",
    "\n",
    "for feature in df['Feature ID']:\n",
    "    print X_all.columns.values[feature-1]\n",
    "\n",
    "df"
   ]
  },
  {
   "cell_type": "markdown",
   "metadata": {},
   "source": [
    "### Question 5 - Final F<sub>1</sub> Score\n",
    "*What is the final model's F<sub>1</sub> score for training and testing? How does that score compare to the untuned model?*"
   ]
  },
  {
   "cell_type": "markdown",
   "metadata": {},
   "source": [
    "**Answer: **\n",
    "With GridSearch I was able to improve the performance on the test set by 1% compared to the untuned model. Using a larger parameter space and RandomSearchCV I was able to improve the model by another 1% to 0.7883 and reduced the number of false positives. When I implemented the larger parameter space into GridSearchCV I was able to achieve almost the same score. Using cross validation I was only able to marginally increase the score to 0.7887.\n",
    "\n",
    "What is notable is that the number of false positives actually increased in the tuned model, while the number of false negatives decreased quite a lot. Although the increase in false positives is certainly bad, the drastic decrease in false negatives is really good because it saves the school costs, since there are fewer unnecessary interventions. This type of tradeoff is something the school board would have to decide on.\n",
    "\n",
    "I also explored the features that had the most impact on the final model. I think the selected features like failures and absences are an intuitive indicator for student success."
   ]
  },
  {
   "cell_type": "markdown",
   "metadata": {},
   "source": [
    "> **Note**: Once you have completed all of the code implementations and successfully answered each question above, you may finalize your work by exporting the iPython Notebook as an HTML document. You can do this by using the menu above and navigating to  \n",
    "**File -> Download as -> HTML (.html)**. Include the finished document along with this notebook as your submission."
   ]
  }
 ],
 "metadata": {
  "kernelspec": {
   "display_name": "Python 2",
   "language": "python",
   "name": "python2"
  },
  "language_info": {
   "codemirror_mode": {
    "name": "ipython",
    "version": 2
   },
   "file_extension": ".py",
   "mimetype": "text/x-python",
   "name": "python",
   "nbconvert_exporter": "python",
   "pygments_lexer": "ipython2",
   "version": "2.7.11"
  }
 },
 "nbformat": 4,
 "nbformat_minor": 0
}
